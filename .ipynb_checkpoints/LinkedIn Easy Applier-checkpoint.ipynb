{
 "cells": [
  {
   "cell_type": "code",
   "execution_count": 1,
   "metadata": {},
   "outputs": [],
   "source": [
    "email = ''\n",
    "password = ''\n",
    "\n",
    "job_title = 'python developer'\n",
    "years = '3' # years of experience"
   ]
  },
  {
   "cell_type": "code",
   "execution_count": 2,
   "metadata": {},
   "outputs": [
    {
     "name": "stdout",
     "output_type": "stream",
     "text": [
      "Requirement already satisfied: selenium in c:\\users\\pluketina\\appdata\\local\\continuum\\anaconda3\\lib\\site-packages (3.141.0)\n",
      "Requirement already satisfied: urllib3 in c:\\users\\pluketina\\appdata\\local\\continuum\\anaconda3\\lib\\site-packages (from selenium) (1.24.2)\n"
     ]
    }
   ],
   "source": [
    "!pip install selenium"
   ]
  },
  {
   "cell_type": "code",
   "execution_count": 3,
   "metadata": {},
   "outputs": [],
   "source": [
    "from selenium import webdriver\n",
    "from selenium.webdriver.common.keys import Keys\n",
    "from time import sleep\n",
    "import random\n",
    "import math"
   ]
  },
  {
   "cell_type": "code",
   "execution_count": 4,
   "metadata": {},
   "outputs": [],
   "source": [
    "driver_path = './chromedriver.exe'\n",
    "driver = webdriver.Chrome(executable_path=driver_path)\n",
    "\n",
    "select_css = driver.find_element_by_css_selector\n",
    "select_xml = driver.find_element_by_xpath\n",
    "\n",
    "driver.get(url = 'https://www.linkedin.com/'); sleep(1)"
   ]
  },
  {
   "cell_type": "code",
   "execution_count": 5,
   "metadata": {},
   "outputs": [],
   "source": [
    "sign_in = driver.find_element(by='link text', value='Sign in')\n",
    "sign_in.click(); sleep(1)"
   ]
  },
  {
   "cell_type": "code",
   "execution_count": 6,
   "metadata": {},
   "outputs": [],
   "source": [
    "def type_word(word, element, send=False):\n",
    "    ''' Types words letter-by-letter while waiting\n",
    "        a random amount of time after each stroke'''\n",
    "    for letter in word:\n",
    "        sleep(random.uniform(.1, .4))\n",
    "        element.send_keys(letter)\n",
    "    if send:\n",
    "        element.send_keys(Keys.RETURN)\n",
    "        sleep(3)"
   ]
  },
  {
   "cell_type": "code",
   "execution_count": 7,
   "metadata": {},
   "outputs": [],
   "source": [
    "email_entry = select_css('#username')\n",
    "password_entry = select_css('#password')\n",
    "        \n",
    "type_word(email, email_entry)\n",
    "type_word(password, password_entry, send=True)"
   ]
  },
  {
   "cell_type": "code",
   "execution_count": 8,
   "metadata": {},
   "outputs": [],
   "source": [
    "search = select_css('input')\n",
    "type_word(job_title, search, send=True)\n",
    "\n",
    "view_jobs = select_css('button[aria-label=\"View only Jobs results\"]')\n",
    "view_jobs.click(); sleep(1)"
   ]
  },
  {
   "cell_type": "code",
   "execution_count": 11,
   "metadata": {},
   "outputs": [],
   "source": [
    "filters = select_css('button[data-control-name=\"all_filters\"]')\n",
    "filters.click(); sleep(2)"
   ]
  },
  {
   "cell_type": "code",
   "execution_count": 12,
   "metadata": {},
   "outputs": [],
   "source": [
    "forms = driver.find_elements_by_css_selector('div[data-test-modal] form')\n",
    "sleep(.5)\n",
    "clicks = [3,2,1,0,0,0,0,0,[3,4,5,6],0,0,0]\n",
    "\n",
    "driver.execute_script(\"window.scrollTo(0, 500)\"); sleep(1)\n",
    "driver.execute_script(\"window.scrollTo(0, 1500)\"); sleep(1)\n",
    "driver.execute_script(\"window.scrollTo(0, 0)\"); sleep(1)\n",
    "\n",
    "for click, ele in zip(clicks, forms):\n",
    "    sleep(.25)\n",
    "    if isinstance(click, list):\n",
    "        driver.execute_script(\"window.scrollTo(0, 500)\"); sleep(1)\n",
    "        for i in click:\n",
    "            ele.find_element_by_css_selector(f'li:nth-child({i})').click()\n",
    "    elif click != 0:\n",
    "        ele.find_element_by_css_selector(f'li:nth-child({click})').click()\n",
    "\n",
    "sleep(1)\n",
    "apply_filter = select_css('button[data-control-name=\"all_filters_apply\"]')\n",
    "apply_filter.click()"
   ]
  },
  {
   "cell_type": "code",
   "execution_count": 13,
   "metadata": {},
   "outputs": [],
   "source": [
    "def apply_to_job():\n",
    "    i = 0\n",
    "    while True and i < 12:\n",
    "        try: # to unfollow\n",
    "            unfollow = select_css('label[for=\"follow-company-checkbox\"]')\n",
    "            unfollow.click()\n",
    "        except: pass # nothing to unfollow\n",
    "        \n",
    "        try: # to continue\n",
    "            next = select_css('button[data-control-name=\"continue_unify\"]')\n",
    "            next.click()\n",
    "        except: pass\n",
    "        \n",
    "        try: # to review\n",
    "            review = select_css('button[data-control-name=\"review_unify\"]')\n",
    "            review.click()\n",
    "        except: pass\n",
    "        \n",
    "        try: # to submit\n",
    "            submit = select_css('button[data-control-name=\"submit_unify\"]')\n",
    "            submit.click()\n",
    "            break\n",
    "        except: pass\n",
    "                \n",
    "        try:\n",
    "            forms = driver.find_elements_by_css_selector('div[data-test-modal] input.ember-text-field')\n",
    "            for form in forms:\n",
    "                type_word(years, form)\n",
    "        except: pass\n",
    "        i += 1\n",
    "    sleep(2)\n",
    "    \n",
    "    close = select_css('button[data-test-modal-close-btn]')\n",
    "    close.click()\n",
    "    \n",
    "    try:\n",
    "        discard = select_css('button[data-test-dialog-primary-btn]')\n",
    "        discard.click()\n",
    "    except: pass"
   ]
  },
  {
   "cell_type": "code",
   "execution_count": 14,
   "metadata": {},
   "outputs": [],
   "source": [
    "def run_thru_listed_positions():\n",
    "    global page_number\n",
    "    \n",
    "    for i in range(1, 26):\n",
    "        try:\n",
    "            job = select_css(f'.jobs-search-results__list li:nth-child({i}) li-icon')\n",
    "            job.click(); sleep(1.3)\n",
    "            \n",
    "            apply = select_css('button[data-control-name=\"jobdetails_topcard_inapply\"]')\n",
    "            apply.click(); sleep(.25)\n",
    "\n",
    "            apply_to_job()\n",
    "            \n",
    "        except: pass\n",
    "\n",
    "    print(f'Page {page_number}/{pages} complete...')\n",
    "    page_number += 1\n",
    "    \n",
    "    if page_number <= pages and page_number != 40:\n",
    "        next_page = select_css(f'artdeco-pagination > ul > li:nth-child({page_number})')\n",
    "        next_page.click()\n",
    "        sleep(2)"
   ]
  },
  {
   "cell_type": "code",
   "execution_count": 15,
   "metadata": {},
   "outputs": [
    {
     "name": "stdout",
     "output_type": "stream",
     "text": [
      "Page 1/3 complete...\n",
      "Page 2/3 complete...\n",
      "Page 3/3 complete...\n"
     ]
    }
   ],
   "source": [
    "results = int(select_css('small').text[0:-8].replace(',', ''))\n",
    "pages = math.ceil(results/25) if math.ceil(results/25) <= 40 else 40\n",
    "\n",
    "page_number = 1\n",
    "\n",
    "for i in range(0, pages):\n",
    "    run_thru_listed_positions()"
   ]
  },
  {
   "cell_type": "code",
   "execution_count": null,
   "metadata": {},
   "outputs": [],
   "source": []
  }
 ],
 "metadata": {
  "kernelspec": {
   "display_name": "Python 3",
   "language": "python",
   "name": "python3"
  },
  "language_info": {
   "codemirror_mode": {
    "name": "ipython",
    "version": 3
   },
   "file_extension": ".py",
   "mimetype": "text/x-python",
   "name": "python",
   "nbconvert_exporter": "python",
   "pygments_lexer": "ipython3",
   "version": "3.7.3"
  }
 },
 "nbformat": 4,
 "nbformat_minor": 2
}
