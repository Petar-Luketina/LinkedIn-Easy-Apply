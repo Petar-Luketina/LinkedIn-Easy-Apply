{
 "cells": [
  {
   "cell_type": "code",
   "execution_count": null,
   "metadata": {},
   "outputs": [],
   "source": [
    "email = ''\n",
    "password = ''\n",
    "years = '10' # years of experience"
   ]
  },
  {
   "cell_type": "code",
   "execution_count": null,
   "metadata": {},
   "outputs": [],
   "source": [
    "!pip install selenium"
   ]
  },
  {
   "cell_type": "code",
   "execution_count": null,
   "metadata": {},
   "outputs": [],
   "source": [
    "from selenium import webdriver\n",
    "from selenium.webdriver.common.keys import Keys\n",
    "from time import sleep\n",
    "import random\n",
    "import math"
   ]
  },
  {
   "cell_type": "code",
   "execution_count": null,
   "metadata": {},
   "outputs": [],
   "source": [
    "driver_path = './chromedriver.exe'\n",
    "driver = webdriver.Chrome(executable_path=driver_path)\n",
    "actions = webdriver.ActionChains(driver)\n",
    "\n",
    "select_css = driver.find_element_by_css_selector\n",
    "select_xml = driver.find_element_by_xpath\n",
    "\n",
    "driver.get(url = 'https://www.linkedin.com/'); sleep(1)"
   ]
  },
  {
   "cell_type": "code",
   "execution_count": null,
   "metadata": {},
   "outputs": [],
   "source": [
    "sign_in = driver.find_element(by='link text', value='Sign in')\n",
    "sign_in.click(); sleep(1)"
   ]
  },
  {
   "cell_type": "code",
   "execution_count": null,
   "metadata": {},
   "outputs": [],
   "source": [
    "def type_word(word, element, send=False):\n",
    "    for letter in word:\n",
    "        sleep(random.uniform(.15, .4))\n",
    "        element.send_keys(letter)\n",
    "    if send:\n",
    "        element.send_keys(Keys.RETURN)\n",
    "        sleep(3)"
   ]
  },
  {
   "cell_type": "code",
   "execution_count": null,
   "metadata": {},
   "outputs": [],
   "source": [
    "email_entry = select_css('#username')\n",
    "password_entry = select_css('#password')\n",
    "        \n",
    "type_word(email, email_entry)\n",
    "type_word(password, password_entry, send=True)"
   ]
  },
  {
   "cell_type": "code",
   "execution_count": null,
   "metadata": {},
   "outputs": [],
   "source": [
    "def element_exists(ele, css=True):\n",
    "    try:\n",
    "        if css: select_css(ele)\n",
    "        else: select_xml(ele)\n",
    "    except: return False\n",
    "    return True\n",
    "\n",
    "def unfollow():\n",
    "    unfollow = 'label[for=\"follow-company-checkbox\"]'\n",
    "    if element_exists(unfollow):\n",
    "        select_css(unfollow).click(); sleep(.2)\n",
    "    \n",
    "    \n",
    "def check_input_buttons():\n",
    "    for i in range(3):\n",
    "        try:\n",
    "            inpt = 'input[value=\"Yes\"]'\n",
    "            inpt = select_css(inpt)\n",
    "            actions.move_to_element(inpt).click(inpt).perform()\n",
    "        except: pass"
   ]
  },
  {
   "cell_type": "code",
   "execution_count": null,
   "metadata": {},
   "outputs": [],
   "source": [
    "def apply_to_job():\n",
    "    i = 0\n",
    "    while True and i < 5:\n",
    "        \n",
    "        next_button = 'button[data-control-name=\"continue_unify\"]'\n",
    "        if element_exists(next_button):\n",
    "            unfollow()\n",
    "            select_css(next_button).click()\n",
    "\n",
    "        review_button = 'button[data-control-name=\"review_unify\"]'\n",
    "        if element_exists(review_button):\n",
    "            select_css(review_button).click()\n",
    "\n",
    "        \n",
    "        submit_button = 'button[data-control-name=\"submit_unify\"]'\n",
    "        if element_exists(submit_button):\n",
    "            unfollow()\n",
    "            select_css(submit_button).click()\n",
    "            sleep(.75)\n",
    "            break\n",
    "            \n",
    "        check_input_buttons()\n",
    "        try:\n",
    "            forms = 'div[data-test-modal] input.ember-text-field'\n",
    "            driver.find_elements_by_css_selector(forms)\n",
    "            for form in forms:\n",
    "                type_word(years, form)\n",
    "        except: pass\n",
    "        i += 1\n",
    "    \n",
    "    sleep(.75)    \n",
    "    close = 'button[data-test-modal-close-btn]'\n",
    "    if element_exists(close):\n",
    "        select_css(close).click()\n",
    "        \n",
    "        \n",
    "    discard = 'button[data-test-dialog-primary-btn]'\n",
    "    if element_exists(discard):\n",
    "        select_css(discard).click()"
   ]
  },
  {
   "cell_type": "code",
   "execution_count": null,
   "metadata": {},
   "outputs": [],
   "source": [
    "def run_thru_listed_positions():\n",
    "    global page_number\n",
    "    for i in range(1, 26):\n",
    "        try:\n",
    "            job_div = f'.jobs-search-results__list li:nth-child({i}) li-icon'\n",
    "            select_css(job_div).click(); sleep(.5)\n",
    "\n",
    "            apply_button = 'button[data-control-name=\"jobdetails_topcard_inapply\"]'\n",
    "            if element_exists(apply_button):\n",
    "                apply = select_css(apply_button)\n",
    "                apply.click(); sleep(.5)\n",
    "                apply_to_job()\n",
    "        except: pass\n",
    "    print(f'Page {page_number}/{pages} complete...')\n",
    "    page_number += 1\n",
    "    \n",
    "    if page_number <= pages and page_number != 40:\n",
    "        if page_number > 9:\n",
    "            next_page = f'artdeco-pagination > ul > li:nth-child(7)'\n",
    "            select_css(next_page).click()\n",
    "        else:\n",
    "            try:\n",
    "                next_page = f'artdeco-pagination > ul > li:nth-child({page_number})'\n",
    "                select_css(next_page).click()\n",
    "            except:\n",
    "                next_page = f'artdeco-pagination > ul > li:nth-child({page_number}+1)'\n",
    "                select_css(next_page).click()\n",
    "            finally:\n",
    "                page_number += 1"
   ]
  },
  {
   "cell_type": "code",
   "execution_count": null,
   "metadata": {},
   "outputs": [],
   "source": [
    "results = int(select_css('small').text[0:-8].replace(',', ''))\n",
    "pages = math.ceil(results/25) if math.ceil(results/25) <= 40 else 40\n",
    "\n",
    "page_number = int(select_css('span[aria-current=\"true\"]').text)\n",
    "\n",
    "for i in range(0, pages): # pages):\n",
    "    run_thru_listed_positions()"
   ]
  },
  {
   "cell_type": "code",
   "execution_count": null,
   "metadata": {},
   "outputs": [],
   "source": []
  }
 ],
 "metadata": {
  "kernelspec": {
   "display_name": "Python 3",
   "language": "python",
   "name": "python3"
  },
  "language_info": {
   "codemirror_mode": {
    "name": "ipython",
    "version": 3
   },
   "file_extension": ".py",
   "mimetype": "text/x-python",
   "name": "python",
   "nbconvert_exporter": "python",
   "pygments_lexer": "ipython3",
   "version": "3.7.3"
  }
 },
 "nbformat": 4,
 "nbformat_minor": 2
}
